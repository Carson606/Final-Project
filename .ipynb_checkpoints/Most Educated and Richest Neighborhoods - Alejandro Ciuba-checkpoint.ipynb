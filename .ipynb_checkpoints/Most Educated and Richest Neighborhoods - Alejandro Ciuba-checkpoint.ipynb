{
 "cells": [
  {
   "cell_type": "markdown",
   "metadata": {
    "id": "UPraHxYucLfm"
   },
   "source": [
    "# Best Neighborhoods to Rob in Pittsburgh\n",
    "### According to Educational and Employment Data\n",
    "#### _by Alejandro Ciuba_ from Team \"Totally Not Using This Data For Nefarious Purposes\""
   ]
  },
  {
   "cell_type": "code",
   "execution_count": 1,
   "metadata": {
    "id": "VN0zJTRddT7U"
   },
   "outputs": [],
   "source": [
    "#Importing the libraries to use for the data analysis\n",
    "import pandas as pd\n",
    "import numpy as np\n",
    "import matplotlib"
   ]
  },
  {
   "cell_type": "markdown",
   "metadata": {
    "id": "4-PK1hz_dlxl"
   },
   "source": [
    "# Introduction \n",
    "\n",
    "For my part of the project, I will be analyzing which neighborhoods would be the best to rob according to educational/income and job datasets provided by [The WPRDC](http://www.wprdc.org). First, I will analyze the educational/income dataset to determine which neighborhoods in Pittsburgh are the _\"oldest\"_ and _\"richest\"_, since that demographic of people would be perfect to mug. They are less likely to do any bodily damage to you should they fight back, and they have a lot of money; these factors would make these neighborhoods prime targets for muggings."
   ]
  },
  {
   "cell_type": "markdown",
   "metadata": {
    "id": "FE_4WckCfX4i"
   },
   "source": [
    "## Education/Income Dataset\n",
    "\n",
    "The first dataset, [_\"Education-Income 2010\"_](https://data.wprdc.org/dataset/pgh/resource/f7b19c6c-aa66-419b-b0e1-9998d7ddfcbc), provides us several important pieces of data for each neighborhood: average education obtained, average income, and the estimated percentage of the neighborhood under the poverty line. All of these will provide useful information from which we can draw conclusions about which neighborhoods are the best to rob depending on what a thief wants."
   ]
  },
  {
   "cell_type": "code",
   "execution_count": 2,
   "metadata": {
    "executionInfo": {
     "elapsed": 186,
     "status": "ok",
     "timestamp": 1617483939376,
     "user": {
      "displayName": "Alejandro Ciuba",
      "photoUrl": "https://lh3.googleusercontent.com/a-/AOh14GjsmuQEr0i4xMpm9q56Qqmk84vA74U1_53-qQnJ=s64",
      "userId": "08038255199237976900"
     },
     "user_tz": 240
    },
    "id": "jRWaWamxgr5G"
   },
   "outputs": [
    {
     "data": {
      "text/html": [
       "<div>\n",
       "<style scoped>\n",
       "    .dataframe tbody tr th:only-of-type {\n",
       "        vertical-align: middle;\n",
       "    }\n",
       "\n",
       "    .dataframe tbody tr th {\n",
       "        vertical-align: top;\n",
       "    }\n",
       "\n",
       "    .dataframe thead th {\n",
       "        text-align: right;\n",
       "    }\n",
       "</style>\n",
       "<table border=\"1\" class=\"dataframe\">\n",
       "  <thead>\n",
       "    <tr style=\"text-align: right;\">\n",
       "      <th></th>\n",
       "      <th>Neighborhood</th>\n",
       "      <th>Sector #</th>\n",
       "      <th>Population (2010)</th>\n",
       "      <th>Total Pop, 25 and older (2010)</th>\n",
       "      <th>Edu. Attainment: Less than High School (2010)</th>\n",
       "      <th>Edu. Attainment: High School Graduate (2010)</th>\n",
       "      <th>Edu. Attainment: Assoc./Prof. Degree (2010)</th>\n",
       "      <th>Edu. Attainment: Bachelor's Degree (2010)</th>\n",
       "      <th>Edu. Attainment: Postgraduate Degree (2010)</th>\n",
       "      <th>1999 Median Income ('99 Dollars)</th>\n",
       "      <th>2009 Median Income ('09 Dollars)</th>\n",
       "      <th>1999 Median Income ('11 Dollars)</th>\n",
       "      <th>2009 Med. Income ('13 Dollars)</th>\n",
       "      <th>Est. Pop. for which Poverty Calc. (2010)</th>\n",
       "      <th>Est. Pop. Under Poverty (2010)</th>\n",
       "      <th>Est. Percent Under Poverty (2010)</th>\n",
       "    </tr>\n",
       "  </thead>\n",
       "  <tbody>\n",
       "    <tr>\n",
       "      <th>0</th>\n",
       "      <td>Allegheny Center</td>\n",
       "      <td>3</td>\n",
       "      <td>933</td>\n",
       "      <td>609</td>\n",
       "      <td>18.7%</td>\n",
       "      <td>44.5%</td>\n",
       "      <td>17.2%</td>\n",
       "      <td>15.8%</td>\n",
       "      <td>3.8%</td>\n",
       "      <td>$16,964</td>\n",
       "      <td>$20,911</td>\n",
       "      <td>$22,535</td>\n",
       "      <td>$22,793</td>\n",
       "      <td>954</td>\n",
       "      <td>324</td>\n",
       "      <td>34.0%</td>\n",
       "    </tr>\n",
       "    <tr>\n",
       "      <th>1</th>\n",
       "      <td>Allegheny West</td>\n",
       "      <td>3</td>\n",
       "      <td>462</td>\n",
       "      <td>239</td>\n",
       "      <td>9.2%</td>\n",
       "      <td>28.9%</td>\n",
       "      <td>6.7%</td>\n",
       "      <td>44.8%</td>\n",
       "      <td>10.5%</td>\n",
       "      <td>$26,638</td>\n",
       "      <td>$41,761</td>\n",
       "      <td>$35,386</td>\n",
       "      <td>$45,519</td>\n",
       "      <td>239</td>\n",
       "      <td>12</td>\n",
       "      <td>5.0%</td>\n",
       "    </tr>\n",
       "    <tr>\n",
       "      <th>2</th>\n",
       "      <td>Allentown</td>\n",
       "      <td>6</td>\n",
       "      <td>2,500</td>\n",
       "      <td>1,729</td>\n",
       "      <td>23.0%</td>\n",
       "      <td>63.3%</td>\n",
       "      <td>6.6%</td>\n",
       "      <td>5.6%</td>\n",
       "      <td>1.5%</td>\n",
       "      <td>$22,539</td>\n",
       "      <td>$29,274</td>\n",
       "      <td>$29,941</td>\n",
       "      <td>$31,909</td>\n",
       "      <td>2,212</td>\n",
       "      <td>630</td>\n",
       "      <td>28.5%</td>\n",
       "    </tr>\n",
       "    <tr>\n",
       "      <th>3</th>\n",
       "      <td>Arlington</td>\n",
       "      <td>7</td>\n",
       "      <td>1,869</td>\n",
       "      <td>1,232</td>\n",
       "      <td>14.9%</td>\n",
       "      <td>65.3%</td>\n",
       "      <td>10.1%</td>\n",
       "      <td>7.1%</td>\n",
       "      <td>2.5%</td>\n",
       "      <td>$27,167</td>\n",
       "      <td>$25,119</td>\n",
       "      <td>$36,089</td>\n",
       "      <td>$27,380</td>\n",
       "      <td>1,779</td>\n",
       "      <td>361</td>\n",
       "      <td>20.3%</td>\n",
       "    </tr>\n",
       "    <tr>\n",
       "      <th>4</th>\n",
       "      <td>Arlington Heights</td>\n",
       "      <td>7</td>\n",
       "      <td>244</td>\n",
       "      <td>166</td>\n",
       "      <td>18.1%</td>\n",
       "      <td>74.1%</td>\n",
       "      <td>0.0%</td>\n",
       "      <td>7.8%</td>\n",
       "      <td>0.0%</td>\n",
       "      <td>$18,646</td>\n",
       "      <td>$9,417</td>\n",
       "      <td>$24,769</td>\n",
       "      <td>$10,265</td>\n",
       "      <td>293</td>\n",
       "      <td>169</td>\n",
       "      <td>57.7%</td>\n",
       "    </tr>\n",
       "    <tr>\n",
       "      <th>5</th>\n",
       "      <td>Banksville</td>\n",
       "      <td>5</td>\n",
       "      <td>4,144</td>\n",
       "      <td>3,935</td>\n",
       "      <td>9.8%</td>\n",
       "      <td>51.5%</td>\n",
       "      <td>9.8%</td>\n",
       "      <td>22.3%</td>\n",
       "      <td>6.6%</td>\n",
       "      <td>$38,555</td>\n",
       "      <td>$50,625</td>\n",
       "      <td>$51,217</td>\n",
       "      <td>$55,181</td>\n",
       "      <td>4,170</td>\n",
       "      <td>243</td>\n",
       "      <td>5.8%</td>\n",
       "    </tr>\n",
       "    <tr>\n",
       "      <th>6</th>\n",
       "      <td>Bedford Dwellings</td>\n",
       "      <td>15</td>\n",
       "      <td>1,202</td>\n",
       "      <td>733</td>\n",
       "      <td>8.3%</td>\n",
       "      <td>49.9%</td>\n",
       "      <td>12.8%</td>\n",
       "      <td>14.2%</td>\n",
       "      <td>14.7%</td>\n",
       "      <td>$8,955</td>\n",
       "      <td>$9,992</td>\n",
       "      <td>$11,896</td>\n",
       "      <td>$10,891</td>\n",
       "      <td>1,203</td>\n",
       "      <td>589</td>\n",
       "      <td>49.0%</td>\n",
       "    </tr>\n",
       "    <tr>\n",
       "      <th>7</th>\n",
       "      <td>Beechview</td>\n",
       "      <td>5</td>\n",
       "      <td>7,974</td>\n",
       "      <td>5,211</td>\n",
       "      <td>11.0%</td>\n",
       "      <td>58.1%</td>\n",
       "      <td>11.1%</td>\n",
       "      <td>13.6%</td>\n",
       "      <td>6.2%</td>\n",
       "      <td>$34,079</td>\n",
       "      <td>$36,602</td>\n",
       "      <td>$45,270</td>\n",
       "      <td>$39,896</td>\n",
       "      <td>7,450</td>\n",
       "      <td>1,366</td>\n",
       "      <td>18.3%</td>\n",
       "    </tr>\n",
       "    <tr>\n",
       "      <th>8</th>\n",
       "      <td>Beltzhoover</td>\n",
       "      <td>6</td>\n",
       "      <td>1,925</td>\n",
       "      <td>1,369</td>\n",
       "      <td>19.3%</td>\n",
       "      <td>54.3%</td>\n",
       "      <td>13.8%</td>\n",
       "      <td>8.3%</td>\n",
       "      <td>4.2%</td>\n",
       "      <td>$26,750</td>\n",
       "      <td>$33,869</td>\n",
       "      <td>$35,535</td>\n",
       "      <td>$36,917</td>\n",
       "      <td>2,066</td>\n",
       "      <td>485</td>\n",
       "      <td>23.5%</td>\n",
       "    </tr>\n",
       "    <tr>\n",
       "      <th>9</th>\n",
       "      <td>Bloomfield</td>\n",
       "      <td>12</td>\n",
       "      <td>8,442</td>\n",
       "      <td>6,671</td>\n",
       "      <td>11.2%</td>\n",
       "      <td>42.6%</td>\n",
       "      <td>8.6%</td>\n",
       "      <td>24.1%</td>\n",
       "      <td>13.5%</td>\n",
       "      <td>$23,831</td>\n",
       "      <td>$30,830</td>\n",
       "      <td>$31,658</td>\n",
       "      <td>$33,604</td>\n",
       "      <td>9,192</td>\n",
       "      <td>1,781</td>\n",
       "      <td>19.4%</td>\n",
       "    </tr>\n",
       "  </tbody>\n",
       "</table>\n",
       "</div>"
      ],
      "text/plain": [
       "        Neighborhood  Sector # Population (2010)  \\\n",
       "0   Allegheny Center         3               933   \n",
       "1     Allegheny West         3               462   \n",
       "2          Allentown         6             2,500   \n",
       "3          Arlington         7             1,869   \n",
       "4  Arlington Heights         7               244   \n",
       "5         Banksville         5             4,144   \n",
       "6  Bedford Dwellings        15             1,202   \n",
       "7          Beechview         5             7,974   \n",
       "8        Beltzhoover         6             1,925   \n",
       "9         Bloomfield        12             8,442   \n",
       "\n",
       "  Total Pop, 25 and older (2010)  \\\n",
       "0                            609   \n",
       "1                            239   \n",
       "2                          1,729   \n",
       "3                          1,232   \n",
       "4                            166   \n",
       "5                          3,935   \n",
       "6                            733   \n",
       "7                          5,211   \n",
       "8                          1,369   \n",
       "9                          6,671   \n",
       "\n",
       "  Edu. Attainment: Less than High School (2010)  \\\n",
       "0                                         18.7%   \n",
       "1                                          9.2%   \n",
       "2                                         23.0%   \n",
       "3                                         14.9%   \n",
       "4                                         18.1%   \n",
       "5                                          9.8%   \n",
       "6                                          8.3%   \n",
       "7                                         11.0%   \n",
       "8                                         19.3%   \n",
       "9                                         11.2%   \n",
       "\n",
       "  Edu. Attainment: High School Graduate (2010)  \\\n",
       "0                                        44.5%   \n",
       "1                                        28.9%   \n",
       "2                                        63.3%   \n",
       "3                                        65.3%   \n",
       "4                                        74.1%   \n",
       "5                                        51.5%   \n",
       "6                                        49.9%   \n",
       "7                                        58.1%   \n",
       "8                                        54.3%   \n",
       "9                                        42.6%   \n",
       "\n",
       "  Edu. Attainment: Assoc./Prof. Degree (2010)  \\\n",
       "0                                       17.2%   \n",
       "1                                        6.7%   \n",
       "2                                        6.6%   \n",
       "3                                       10.1%   \n",
       "4                                        0.0%   \n",
       "5                                        9.8%   \n",
       "6                                       12.8%   \n",
       "7                                       11.1%   \n",
       "8                                       13.8%   \n",
       "9                                        8.6%   \n",
       "\n",
       "  Edu. Attainment: Bachelor's Degree (2010)  \\\n",
       "0                                     15.8%   \n",
       "1                                     44.8%   \n",
       "2                                      5.6%   \n",
       "3                                      7.1%   \n",
       "4                                      7.8%   \n",
       "5                                     22.3%   \n",
       "6                                     14.2%   \n",
       "7                                     13.6%   \n",
       "8                                      8.3%   \n",
       "9                                     24.1%   \n",
       "\n",
       "  Edu. Attainment: Postgraduate Degree (2010)  \\\n",
       "0                                        3.8%   \n",
       "1                                       10.5%   \n",
       "2                                        1.5%   \n",
       "3                                        2.5%   \n",
       "4                                        0.0%   \n",
       "5                                        6.6%   \n",
       "6                                       14.7%   \n",
       "7                                        6.2%   \n",
       "8                                        4.2%   \n",
       "9                                       13.5%   \n",
       "\n",
       "  1999 Median Income ('99 Dollars) 2009 Median Income ('09 Dollars)  \\\n",
       "0                         $16,964                          $20,911    \n",
       "1                         $26,638                          $41,761    \n",
       "2                         $22,539                          $29,274    \n",
       "3                         $27,167                          $25,119    \n",
       "4                         $18,646                           $9,417    \n",
       "5                         $38,555                          $50,625    \n",
       "6                          $8,955                           $9,992    \n",
       "7                         $34,079                          $36,602    \n",
       "8                         $26,750                          $33,869    \n",
       "9                         $23,831                          $30,830    \n",
       "\n",
       "  1999 Median Income ('11 Dollars) 2009 Med. Income ('13 Dollars)  \\\n",
       "0                         $22,535                        $22,793    \n",
       "1                         $35,386                        $45,519    \n",
       "2                         $29,941                        $31,909    \n",
       "3                         $36,089                        $27,380    \n",
       "4                         $24,769                        $10,265    \n",
       "5                         $51,217                        $55,181    \n",
       "6                         $11,896                        $10,891    \n",
       "7                         $45,270                        $39,896    \n",
       "8                         $35,535                        $36,917    \n",
       "9                         $31,658                        $33,604    \n",
       "\n",
       "  Est. Pop. for which Poverty Calc. (2010) Est. Pop. Under Poverty (2010)  \\\n",
       "0                                      954                            324   \n",
       "1                                      239                             12   \n",
       "2                                    2,212                            630   \n",
       "3                                    1,779                            361   \n",
       "4                                      293                            169   \n",
       "5                                    4,170                            243   \n",
       "6                                    1,203                            589   \n",
       "7                                    7,450                          1,366   \n",
       "8                                    2,066                            485   \n",
       "9                                    9,192                          1,781   \n",
       "\n",
       "  Est. Percent Under Poverty (2010)  \n",
       "0                             34.0%  \n",
       "1                              5.0%  \n",
       "2                             28.5%  \n",
       "3                             20.3%  \n",
       "4                             57.7%  \n",
       "5                              5.8%  \n",
       "6                             49.0%  \n",
       "7                             18.3%  \n",
       "8                             23.5%  \n",
       "9                             19.4%  "
      ]
     },
     "execution_count": 2,
     "metadata": {},
     "output_type": "execute_result"
    }
   ],
   "source": [
    "#Import the dataset from the link\n",
    "edu_inc = pd.read_csv(\"education-income.csv\")\n",
    "\n",
    "#Read the beginning of the dataset\n",
    "edu_inc.head(10)"
   ]
  },
  {
   "cell_type": "markdown",
   "metadata": {},
   "source": [
    "We will first group the data by education obtained for each type of education."
   ]
  },
  {
   "cell_type": "code",
   "execution_count": 5,
   "metadata": {},
   "outputs": [
    {
     "data": {
      "text/plain": [
       "Text(0, 0.5, 'Percentage of Pop.')"
      ]
     },
     "execution_count": 5,
     "metadata": {},
     "output_type": "execute_result"
    },
    {
     "data": {
      "image/png": "[encoded data removed]",
      "text/plain": [
       "<Figure size 432x288 with 1 Axes>"
      ]
     },
     "metadata": {
      "needs_background": "light"
     },
     "output_type": "display_data"
    }
   ],
   "source": [
    "edu_pos = edu_inc.loc[:,[\"Neighborhood\", \"Edu. Attainment: Postgraduate Degree (2010)\"]]\n",
    "\n",
    "#Drop NaN values, and reindex\n",
    "edu_pos = edu_pos.dropna()\n",
    "edu_pos.reset_index(drop=True, inplace=True)\n",
    "\n",
    "#Convert % strings to numerical data\n",
    "for x in range(len(edu_pos)):\n",
    "    #change that value to a float\n",
    "    edu_pos.loc[x, \"Edu. Attainment: Postgraduate Degree (2010)\"] = float(edu_pos.loc[x, \"Edu. Attainment: Postgraduate Degree (2010)\"].split(\"%\")[0])\n",
    "    \n",
    "#Sort the data and get the top ten \"Most Educated\" neighborhoods\n",
    "edu_pos = edu_pos.sort_values(by=\"Edu. Attainment: Postgraduate Degree (2010)\", ascending=False)\n",
    "edu_pos_topten = edu_pos.head(10)\n",
    "\n",
    "#Create the graph\n",
    "graph_1 = edu_pos_topten.plot(kind=\"bar\", title=\"Top Ten \\\"Most Educated\\\" Neighborhoods\", x=\"Neighborhood\", rot=45)\n",
    "graph_1.set_xlabel(\"Neighborhoods\")\n",
    "graph_1.set_ylabel(\"Percentage of Pop.\")"
   ]
  },
  {
   "cell_type": "markdown",
   "metadata": {},
   "source": [
    "Here is a bar graph showing the top ten \"most educated\" neighborhoods in Pittsburgh, and what percentage of each neighborhood has obtained a PhD/Master's Degree in some field. Ignoring security factors and basing our observations solely on valuables to rob, it makes the most sense to attack these neighborhoods as they could have the most in items such as expensive research paper, valuable data, and expensive researching equipment. All of which could garner hefty prices on some black market."
   ]
  },
  {
   "cell_type": "markdown",
   "metadata": {},
   "source": [
    "Now, the goal is to compare the top ten richest neighborhoods in Pittsburgh and the list of top ten \"most educated\" neighborhoods to see if there is a set of neighborhoods that meets both criteria."
   ]
  },
  {
   "cell_type": "code",
   "execution_count": 7,
   "metadata": {
    "scrolled": true
   },
   "outputs": [
    {
     "data": {
      "text/plain": [
       "Text(0, 0.5, 'Income')"
      ]
     },
     "execution_count": 7,
     "metadata": {},
     "output_type": "execute_result"
    },
    {
     "data": {
      "image/png": "[encoded data removed]",
      "text/plain": [
       "<Figure size 432x288 with 1 Axes>"
      ]
     },
     "metadata": {
      "needs_background": "light"
     },
     "output_type": "display_data"
    }
   ],
   "source": [
    "edu_money = edu_inc.loc[:,[\"Neighborhood\", \"2009 Med. Income ('13 Dollars)\"]]\n",
    "\n",
    "#Drop NaN values, and reindex\n",
    "edu_money = edu_money.dropna()\n",
    "edu_money.reset_index(drop=True, inplace=True)\n",
    "\n",
    "#Convert % strings to numerical data\n",
    "for x in range(len(edu_money)):\n",
    "\n",
    "    #change that value to a float\n",
    "    edu_money.loc[x, \"2009 Med. Income ('13 Dollars)\"] = float(edu_money.loc[x, \"2009 Med. Income ('13 Dollars)\"].rstrip().replace(\",\", \"\").split(\"$\")[1])\n",
    "    \n",
    "#Sort the data and get the top ten \"Richest\" neighborhoods\n",
    "edu_money = edu_money.sort_values(by=\"2009 Med. Income ('13 Dollars)\", ascending=False)\n",
    "edu_money_topten = edu_money.head(10)\n",
    "\n",
    "#Create the graph\n",
    "graph_2 = edu_money_topten.plot(kind=\"bar\", title=\"Top Ten \\\"Richest\\\" Neighborhoods\", x=\"Neighborhood\", rot=45)\n",
    "graph_2.set_xlabel(\"Neighborhoods\")\n",
    "graph_2.set_ylabel(\"Income\")"
   ]
  },
  {
   "cell_type": "markdown",
   "metadata": {},
   "source": [
    "Now let's see which neighborhoods are in both lists"
   ]
  },
  {
   "cell_type": "code",
   "execution_count": 61,
   "metadata": {},
   "outputs": [
    {
     "name": "stdout",
     "output_type": "stream",
     "text": [
      "======= The Most Educated and Richest Neighborhoods =======\n",
      "South Shore\n",
      "Regent Square\n",
      "Squirrel Hill North\n",
      "Point Breeze\n",
      "Highland Park\n",
      "North Shore\n"
     ]
    }
   ],
   "source": [
    "#Neigborhoods only that were in both lists\n",
    "#Print out a nice table\n",
    "print(\"======= The Most Educated and Richest Neighborhoods =======\")\n",
    "\n",
    "for x in edu_pos_topten.loc[:, \"Neighborhood\"]:\n",
    "    for y in edu_money_topten.loc[:, \"Neighborhood\"]:\n",
    "        if x == y:\n",
    "            print(x)\n",
    "\n",
    "\n"
   ]
  },
  {
   "cell_type": "markdown",
   "metadata": {},
   "source": [
    "Finally, we have a list of the neighborhoods that could provide us not only quick monetary gain, but also could give us valuable items to steal."
   ]
  },
  {
   "cell_type": "markdown",
   "metadata": {},
   "source": [
    "## Conclusion\n",
    "\n",
    "We can conclude that, purely from a monetary and item perspective (ignoring things like security, policing, etc.), these 6 neighborhoods are the best place to scope out for potential robbery targets. While any of these neighborhoods that appeared on either list would be suitable enough targets, it would depend on the type of robbery and what the thief would hope to get out of the robbery. If the thief wants potentially valuable technical items: research papers, research equipment, important datasets; then, it would make sense to focus mostly on the neighborhoods with the most postgraduate citizens. If the thief wants to simply make a quick buck from the robbery, they should focus on the list of richest neighborhoods. In any case, after deciding which of the three lists they should focus on, they would then consider other factors not stated in the list: security, policing, street lights, etc. "
   ]
  }
 ],
 "metadata": {
  "colab": {
   "authorship_tag": "ABX9TyNlr6k3NIxsEzThJ6mO7LnJ",
   "collapsed_sections": [],
   "mount_file_id": "1saNeovtFXkHI6sCX-9SDJUhu1C6ahJ5q",
   "name": "Final_Project.ipynb",
   "provenance": [],
   "toc_visible": true
  },
  "kernelspec": {
   "display_name": "Python 3",
   "language": "python",
   "name": "python3"
  },
  "language_info": {
   "codemirror_mode": {
    "name": "ipython",
    "version": 3
   },
   "file_extension": ".py",
   "mimetype": "text/x-python",
   "name": "python",
   "nbconvert_exporter": "python",
   "pygments_lexer": "ipython3",
   "version": "3.7.10"
  }
 },
 "nbformat": 4,
 "nbformat_minor": 4
}
